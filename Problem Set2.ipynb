{
 "cells": [
  {
   "cell_type": "code",
   "execution_count": 44,
   "id": "42c773e1",
   "metadata": {
    "scrolled": true
   },
   "outputs": [],
   "source": [
    "#Question 1: \n",
    "# What value is displayed when the last expression (a) is evaluated? Explain your\n",
    "# answer by indicating what happens in every executed statement.\n"
   ]
  },
  {
   "cell_type": "code",
   "execution_count": 45,
   "id": "e66e3281",
   "metadata": {},
   "outputs": [
    {
     "name": "stdout",
     "output_type": "stream",
     "text": [
      "2\n",
      "4\n",
      "6\n"
     ]
    }
   ],
   "source": [
    "a = 0\n",
    "\n",
    "def b():\n",
    " global a\n",
    " a = c(a)\n",
    "\n",
    "def c(a):\n",
    "     return a + 2\n",
    "\n",
    "\n",
    "b()\n",
    "print(a)\n",
    "b()\n",
    "print(a)\n",
    "b()\n",
    "print (a)"
   ]
  },
  {
   "cell_type": "code",
   "execution_count": 10,
   "id": "bce6764a",
   "metadata": {},
   "outputs": [],
   "source": [
    "# The last expression evaluated is =6. \n",
    "# In this module we have set a variable a=0 \n",
    "# And then by importing the module into the interpreter\n",
    "# global variable 'a' = 0\n",
    "# When we execute b for the first time expression returns a value of 2\n",
    "# when we execute it the second time, function c(a) will be called at\n",
    "# current value i.e. 2 giving the result 4 (a+2 => 2+2 =>4)\n",
    "# Upon third execution function c(a) will be called at current value which is 4\n",
    "# giving the result 4 (a+2 => 4+2 => 6)\n"
   ]
  },
  {
   "cell_type": "code",
   "execution_count": null,
   "id": "3bae8383",
   "metadata": {},
   "outputs": [],
   "source": [
    "# Question 2:\n",
    "# Modify function fileLength() so that a friendly message is printed"
   ]
  },
  {
   "cell_type": "code",
   "execution_count": 13,
   "id": "daa9faff",
   "metadata": {},
   "outputs": [
    {
     "ename": "NameError",
     "evalue": "name 'fileLength' is not defined",
     "output_type": "error",
     "traceback": [
      "\u001b[0;31m---------------------------------------------------------------------------\u001b[0m",
      "\u001b[0;31mNameError\u001b[0m                                 Traceback (most recent call last)",
      "Cell \u001b[0;32mIn[13], line 1\u001b[0m\n\u001b[0;32m----> 1\u001b[0m \u001b[43mfileLength\u001b[49m(\u001b[38;5;124m'\u001b[39m\u001b[38;5;124mmidterm.py\u001b[39m\u001b[38;5;124m'\u001b[39m)\n",
      "\u001b[0;31mNameError\u001b[0m: name 'fileLength' is not defined"
     ]
    }
   ],
   "source": [
    "fileLength('midterm.py')"
   ]
  },
  {
   "cell_type": "code",
   "execution_count": 46,
   "id": "5ba61e2d",
   "metadata": {},
   "outputs": [
    {
     "name": "stdout",
     "output_type": "stream",
     "text": [
      "provide file name:midterm.py\n",
      "File midterm.py not found.\n"
     ]
    }
   ],
   "source": [
    "try:\n",
    "    fn = input (\"provide file name:\")\n",
    "    fl = filelength(fn)\n",
    "    print('length of file is ' ,fl)\n",
    "except:\n",
    "    print('File', fn, 'not found.')"
   ]
  },
  {
   "cell_type": "code",
   "execution_count": null,
   "id": "df10c76b",
   "metadata": {},
   "outputs": [],
   "source": [
    "# Question 3:"
   ]
  },
  {
   "cell_type": "code",
   "execution_count": 47,
   "id": "11654f2b",
   "metadata": {},
   "outputs": [
    {
     "name": "stdout",
     "output_type": "stream",
     "text": [
      "['doll', 'firetruck', 'kitten']\n",
      "I am a Kangaroo located at coordinates (0,0)\n",
      "['doll', 'firetruck', 'kitten']\n",
      "I am a Kangaroo located at coordinates (3,0)\n"
     ]
    }
   ],
   "source": [
    "class Marsupial:\n",
    "    def __init__(self):\n",
    "        self.bag = []\n",
    "    \n",
    "    def put_in_pouch(self, item):\n",
    "        self.bag.append(item)\n",
    "        \n",
    "    def pouch_contents(self):\n",
    "        return self.bag\n",
    "    \n",
    "class Kangaroo(Marsupial):\n",
    "    def __init__(self, x, y):\n",
    "        self.x = x\n",
    "        self.y = y\n",
    "        super().__init__()\n",
    "        \n",
    "    def __str__(self):\n",
    "        return f\"I am a Kangaroo located at coordinates ({self.x},{self.y})\"\n",
    "        \n",
    "    def jump(self, dx, dy):\n",
    "        self.x += dx\n",
    "        self.y += dy\n",
    "        \n",
    "    def put_in_pouch(self, item):\n",
    "        super().put_in_pouch(item)\n",
    "        \n",
    "    def pouch_contents(self):\n",
    "        return super().pouch_contents()\n",
    "    \n",
    "        \n",
    "        \n",
    "m = Marsupial()\n",
    "m.put_in_pouch('doll')\n",
    "m.put_in_pouch('firetruck')\n",
    "m.put_in_pouch('kitten')\n",
    "print(m.pouch_contents())\n",
    "\n",
    "\n",
    "k = Kangaroo(0,0)\n",
    "print(k)\n",
    "\n",
    "k.put_in_pouch('doll')\n",
    "k.put_in_pouch('firetruck')\n",
    "k.put_in_pouch('kitten')\n",
    "print(k.pouch_contents())\n",
    "\n",
    "k.jump(1,0)\n",
    "k.jump(1,0)\n",
    "k.jump(1,0)\n",
    "print(k)"
   ]
  },
  {
   "cell_type": "code",
   "execution_count": null,
   "id": "92485766",
   "metadata": {},
   "outputs": [],
   "source": [
    "#Question 4:\n",
    "# Write function collatz() that takes a positive integer x as input and prints the\n",
    "# Collatz sequence starting at x. A Collatz sequence is obtained by repeatedly applying\n",
    "# this rule to the previous number x in the sequence:\n",
    "# x = { 𝑥/2 𝑖𝑓 𝑥 𝑖𝑠 𝑒𝑣𝑒𝑛\n",
    "# 3𝑥 + 1 𝑖𝑓 𝑥 𝑖𝑠 𝑜𝑑𝑑\n",
    "# Your function should stop when the sequence gets to number 1. Your\n",
    "# implementation must be recursive, without any loops."
   ]
  },
  {
   "cell_type": "code",
   "execution_count": 48,
   "id": "a8413920",
   "metadata": {},
   "outputs": [
    {
     "name": "stdout",
     "output_type": "stream",
     "text": [
      "10\n",
      "5\n",
      "16\n",
      "8\n",
      "4\n",
      "2\n",
      "1\n"
     ]
    }
   ],
   "source": [
    "def collatz(x):\n",
    "    print(x)\n",
    "    if x == 1:\n",
    "        return \n",
    "    \n",
    "    elif x % 2 == 0:\n",
    "        collatz(x//2)\n",
    "    else:\n",
    "        collatz((3 * x) + 1)\n",
    "        \n",
    "collatz(10)\n"
   ]
  },
  {
   "cell_type": "code",
   "execution_count": null,
   "id": "90c14c79",
   "metadata": {},
   "outputs": [],
   "source": [
    "#Question5: \n",
    "# Write a recursive method binary() that takes a non-negative\n",
    "# integer n and prints the binary representation of integer n.\n",
    "# >>> binary(0)\n",
    "# 0\n",
    "# >>> binary(1)\n",
    "# 1\n",
    "# >>> binary(3)\n",
    "# 11\n",
    "# >>> binary(9)\n",
    "# 1001"
   ]
  },
  {
   "cell_type": "code",
   "execution_count": 49,
   "id": "35a3569c",
   "metadata": {},
   "outputs": [
    {
     "name": "stdout",
     "output_type": "stream",
     "text": [
      "0\n",
      "1\n",
      "11\n",
      "1001\n"
     ]
    }
   ],
   "source": [
    "def binary(x):\n",
    "    return str(bin(x)).replace('0b', '')\n",
    "\n",
    "print(binary(0))\n",
    "print(binary(1))\n",
    "print(binary(3))\n",
    "print(binary(9))"
   ]
  },
  {
   "cell_type": "code",
   "execution_count": null,
   "id": "7e7c1177",
   "metadata": {},
   "outputs": [],
   "source": [
    "# Question8:\n",
    "\n",
    "# Write SQL queries on the below database table that return:\n",
    "# a) All the temperature data.\n",
    "# b) All the cities, but without repetition.\n",
    "# c) All the records for India.\n",
    "# d) All the Fall records.\n",
    "\n",
    "# e) The city, country, and season for which the average rainfall is between 200\n",
    "# and 400 millimeters.\n",
    "# f) The city and country for which the average Fall temperature is above 20\n",
    "# degrees, in increasing temperature order.\n",
    "# g) The total annual rainfall for Cairo.\n",
    "# h) The total rainfall for each season.\n",
    "\n",
    "\n",
    "\n",
    "\n",
    "\n"
   ]
  },
  {
   "cell_type": "code",
   "execution_count": null,
   "id": "fbcb4462",
   "metadata": {},
   "outputs": [],
   "source": [
    "# ANSWER to Q8 -\n",
    "\n",
    "# a) SELECT temperature  FROM countries;\n",
    "\n",
    "# b) select distinct(city) from countries;\n",
    "\n",
    "# c) select * from countries where country = 'India';\n",
    "\n",
    "# d) select * from countries where season = 'fall';\n",
    "\n",
    "# e) select city, country, season from countries GROUP BY city, country, season \n",
    "#    having AVG(rainfall)BETWEEN 200 AND 400;\n",
    "\n",
    "# f) select city, country from countries \n",
    "#    where season = 'fall'\n",
    "#    group by city, country\n",
    "#    having AVG(temprature) > 20\n",
    "#    order by temperature ASC;\n",
    "\n",
    "# g) Select city, sum(rainfall)\n",
    "#    from countries\n",
    "#    where city = 'Cairo'\n",
    "#    group by city;\n",
    "\n",
    "# h) Select season , sum(rainfall)\n",
    "#    from countries\n",
    "#    group by season;"
   ]
  },
  {
   "cell_type": "code",
   "execution_count": null,
   "id": "e950b92f",
   "metadata": {},
   "outputs": [],
   "source": [
    "# Question9:\n",
    "# . Suppose list words is defined as follows:\n",
    "# >>> words = ['The', 'quick', 'brown', 'fox', 'jumps', 'over',\n",
    "# 'the', 'lazy', 'dog']\n",
    "# Write list comprehension expressions that use list words and generate the following\n",
    "# lists:\n",
    "# a) ['THE', 'QUICK', 'BROWN', 'FOX', 'JUMPS', 'OVER', 'THE',\n",
    "# 'LAZY', 'DOG']\n",
    "# b) ['the', 'quick', 'brown', 'fox', 'jumps', 'over', 'the',\n",
    "# 'lazy', 'dog']\n",
    "# c) [3, 5, 5, 3, 5, 4, 3, 4, 3] (the list of lengths of words in list\n",
    "# words).\n",
    "# d) [['THE', 'the', 3], ['QUICK', 'quick', 5], ['BROWN',\n",
    "# 'brown', 5], ['FOX', 'fox', 3], ['JUMPS', 'jumps', 5],\n",
    "# ['OVER', 'over', 4], ['THE', 'the', 3], ['LAZY', 'lazy',\n",
    "# 4], ['DOG', 'dog', 3]] (the list containing a list for every word of list\n",
    "# words, where each list contains the word in uppercase and lowercase and the\n",
    "# length of the word.)\n",
    "# e) ['The', 'quick', 'brown', 'fox', 'jumps', 'over', 'the',\n",
    "# 'lazy', 'dog'] (the list of words in list words containing 4 or more\n",
    "# characters.)"
   ]
  },
  {
   "cell_type": "code",
   "execution_count": 50,
   "id": "d77a76de",
   "metadata": {},
   "outputs": [
    {
     "name": "stdout",
     "output_type": "stream",
     "text": [
      "['THE', 'QUICK', 'BROWN', 'FOX', 'JUMPS', 'OVER', 'THE', 'LAZY', 'DOG']\n",
      "['the', 'quick', 'brown', 'fox', 'jumps', 'over', 'the', 'lazy', 'dog']\n",
      "[3, 5, 5, 3, 5, 4, 3, 4, 3]\n",
      "[['THE', 'the', 3], ['QUICK', 'quick', 5], ['BROWN', 'brown', 5], ['FOX', 'fox', 3], ['JUMPS', 'jumps', 5], ['OVER', 'over', 4], ['THE', 'the', 3], ['LAZY', 'lazy', 4], ['DOG', 'dog', 3]]\n",
      "['quick', 'brown', 'jumps', 'over', 'lazy']\n"
     ]
    }
   ],
   "source": [
    "words = ['The', 'quick', 'brown', 'fox', 'jumps', 'over', 'the', 'lazy', 'dog']\n",
    "\n",
    "print([x.upper() for x in words])\n",
    "print([x.lower() for x in words])\n",
    "print([len(x) for x in words])\n",
    "print([[x.upper(), x.lower(), len(x)] for x in words])\n",
    "print([x for x in words if len(x) >=4 ])"
   ]
  }
 ],
 "metadata": {
  "kernelspec": {
   "display_name": "Python 3 (ipykernel)",
   "language": "python",
   "name": "python3"
  },
  "language_info": {
   "codemirror_mode": {
    "name": "ipython",
    "version": 3
   },
   "file_extension": ".py",
   "mimetype": "text/x-python",
   "name": "python",
   "nbconvert_exporter": "python",
   "pygments_lexer": "ipython3",
   "version": "3.10.9"
  }
 },
 "nbformat": 4,
 "nbformat_minor": 5
}
